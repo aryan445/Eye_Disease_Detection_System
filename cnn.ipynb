{
 "cells": [
  {
   "cell_type": "markdown",
   "metadata": {},
   "source": [
    "# Diabetic Retinopathy Detection"
   ]
  },
  {
   "cell_type": "code",
   "execution_count": 1,
   "metadata": {},
   "outputs": [
    {
     "name": "stdout",
     "output_type": "stream",
     "text": [
      "{'diabetic_retinopathy': 0, 'glaucoma': 1, 'normal': 2}\n",
      "['diabetic_retinopathy', 'glaucoma', 'normal']\n",
      "[0, 1, 2]\n"
     ]
    }
   ],
   "source": [
    "import cv2,os\n",
    "data_path='dataset/'\n",
    "categories=os.listdir(data_path)\n",
    "\n",
    "labels=[i for i in range(len(categories))]\n",
    "\n",
    "label_dict=dict(zip(categories,labels)) #empty dictionary\n",
    "print(label_dict)\n",
    "print(categories)\n",
    "print(labels)"
   ]
  },
  {
   "cell_type": "code",
   "execution_count": 2,
   "metadata": {
    "executionInfo": {
     "elapsed": 5512,
     "status": "ok",
     "timestamp": 1624607253016,
     "user": {
      "displayName": "NOUMAN AHMAD",
      "photoUrl": "https://lh3.googleusercontent.com/a-/AOh14GhcQ3BpK0-GAMrjLlr__tOqeFHLlT11IEFK0ztPsVY=s64",
      "userId": "11031044337039581497"
     },
     "user_tz": -300
    },
    "id": "BScfeIRlTtlL"
   },
   "outputs": [],
   "source": [
    "img_size_x=224\n",
    "img_size_y=224\n",
    "data=[]\n",
    "label=[]\n",
    "\n",
    "for category in categories:\n",
    "    folder_path=os.path.join(data_path,category)\n",
    "    img_names=os.listdir(folder_path)\n",
    "        \n",
    "    for img_name in img_names:\n",
    "        img_path=os.path.join(folder_path,img_name)\n",
    "        img=cv2.imread(img_path)\n",
    "        try:\n",
    "            gray = cv2.cvtColor(img, cv2.COLOR_BGR2GRAY)  \n",
    "            resized=cv2.resize(gray,(img_size_x,img_size_y))\n",
    "            #resizing the image  into 224 x 224, since we need a fixed common size for all the images in the dataset\n",
    "            data.append(resized)\n",
    "            label.append(label_dict[category])\n",
    "            #appending the image and the label(categorized) into the list (dataset)\n",
    "        except Exception as e:\n",
    "            print('Exception:',e)\n",
    "            #if any exception rasied, the exception will be printed here. And pass to the next image"
   ]
  },
  {
   "cell_type": "markdown",
   "metadata": {
    "id": "mYQHryCXVQa9"
   },
   "source": [
    "# Recale and assign  catagorical labels"
   ]
  },
  {
   "cell_type": "code",
   "execution_count": 3,
   "metadata": {
    "executionInfo": {
     "elapsed": 377,
     "status": "ok",
     "timestamp": 1624607287285,
     "user": {
      "displayName": "NOUMAN AHMAD",
      "photoUrl": "https://lh3.googleusercontent.com/a-/AOh14GhcQ3BpK0-GAMrjLlr__tOqeFHLlT11IEFK0ztPsVY=s64",
      "userId": "11031044337039581497"
     },
     "user_tz": -300
    },
    "id": "DRj6dU9zTxNw"
   },
   "outputs": [
    {
     "name": "stdout",
     "output_type": "stream",
     "text": [
      "WARNING:tensorflow:From C:\\Users\\dgoya\\anaconda3\\Lib\\site-packages\\keras\\src\\losses.py:2976: The name tf.losses.sparse_softmax_cross_entropy is deprecated. Please use tf.compat.v1.losses.sparse_softmax_cross_entropy instead.\n",
      "\n"
     ]
    }
   ],
   "source": [
    "import numpy as np\n",
    "data=np.array(data)/255.0\n",
    "data=np.reshape(data,(data.shape[0],img_size_x,img_size_y,1))\n",
    "label=np.array(label)\n",
    "from tensorflow.keras.utils import to_categorical\n",
    "new_label=to_categorical(label)"
   ]
  },
  {
   "cell_type": "markdown",
   "metadata": {
    "id": "at-tkV9EUH8v"
   },
   "source": [
    "# CNN Model"
   ]
  },
  {
   "cell_type": "code",
   "execution_count": 4,
   "metadata": {
    "colab": {
     "base_uri": "https://localhost:8080/"
    },
    "executionInfo": {
     "elapsed": 4,
     "status": "ok",
     "timestamp": 1624607291285,
     "user": {
      "displayName": "NOUMAN AHMAD",
      "photoUrl": "https://lh3.googleusercontent.com/a-/AOh14GhcQ3BpK0-GAMrjLlr__tOqeFHLlT11IEFK0ztPsVY=s64",
      "userId": "11031044337039581497"
     },
     "user_tz": -300
    },
    "id": "w5yQijqzVHJN",
    "outputId": "4aefaeae-b6de-4901-bda8-c70ad98bcac4"
   },
   "outputs": [
    {
     "data": {
      "text/plain": [
       "(3179, 224, 224, 1)"
      ]
     },
     "execution_count": 4,
     "metadata": {},
     "output_type": "execute_result"
    }
   ],
   "source": [
    "data.shape"
   ]
  },
  {
   "cell_type": "code",
   "execution_count": 5,
   "metadata": {
    "colab": {
     "base_uri": "https://localhost:8080/"
    },
    "executionInfo": {
     "elapsed": 6,
     "status": "ok",
     "timestamp": 1624607291786,
     "user": {
      "displayName": "NOUMAN AHMAD",
      "photoUrl": "https://lh3.googleusercontent.com/a-/AOh14GhcQ3BpK0-GAMrjLlr__tOqeFHLlT11IEFK0ztPsVY=s64",
      "userId": "11031044337039581497"
     },
     "user_tz": -300
    },
    "id": "L1JcfG4MdVZ2",
    "outputId": "0973e4d2-595e-4a0a-9264-0a4b2c72ff54"
   },
   "outputs": [
    {
     "data": {
      "text/plain": [
       "(224, 224, 1)"
      ]
     },
     "execution_count": 5,
     "metadata": {},
     "output_type": "execute_result"
    }
   ],
   "source": [
    "data.shape[1:]"
   ]
  },
  {
   "cell_type": "code",
   "execution_count": 6,
   "metadata": {},
   "outputs": [
    {
     "name": "stdout",
     "output_type": "stream",
     "text": [
      "WARNING:tensorflow:From C:\\Users\\dgoya\\anaconda3\\Lib\\site-packages\\keras\\src\\backend.py:873: The name tf.get_default_graph is deprecated. Please use tf.compat.v1.get_default_graph instead.\n",
      "\n",
      "WARNING:tensorflow:From C:\\Users\\dgoya\\anaconda3\\Lib\\site-packages\\keras\\src\\layers\\pooling\\max_pooling2d.py:161: The name tf.nn.max_pool is deprecated. Please use tf.nn.max_pool2d instead.\n",
      "\n"
     ]
    },
    {
     "name": "stderr",
     "output_type": "stream",
     "text": [
      "WARNING:absl:`lr` is deprecated in Keras optimizer, please use `learning_rate` or use the legacy optimizer, e.g.,tf.keras.optimizers.legacy.Adam.\n"
     ]
    }
   ],
   "source": [
    "from keras.models import Sequential\n",
    "from keras.layers import Dense,Activation,Flatten,Dropout\n",
    "from keras.layers import Conv2D,MaxPooling2D\n",
    "import tensorflow as tf\n",
    "from tensorflow.keras import layers\n",
    "\n",
    "model = tf.keras.Sequential([\n",
    "    layers.Conv2D(8, (3,3), padding=\"valid\", input_shape=(224,224,1), activation = 'relu'),\n",
    "    layers.MaxPooling2D(pool_size=(2,2)),\n",
    "    layers.BatchNormalization(),\n",
    "    \n",
    "    layers.Conv2D(16, (3,3), padding=\"valid\", activation = 'relu'),\n",
    "    layers.MaxPooling2D(pool_size=(2,2)),\n",
    "    layers.BatchNormalization(),\n",
    "    \n",
    "    layers.Conv2D(32, (4,4), padding=\"valid\", activation = 'relu'),\n",
    "    layers.MaxPooling2D(pool_size=(2,2)),\n",
    "    layers.BatchNormalization(),\n",
    " \n",
    "    layers.Flatten(),\n",
    "    layers.Dense(32, activation = 'relu'),\n",
    "    layers.Dropout(0.15),\n",
    "    layers.Dense(3, activation = 'softmax')\n",
    "])\n",
    "\n",
    "model.compile(optimizer=tf.keras.optimizers.Adam(lr = 1e-5), loss=tf.keras.losses.categorical_crossentropy, metrics=['acc'])"
   ]
  },
  {
   "cell_type": "code",
   "execution_count": 7,
   "metadata": {
    "colab": {
     "base_uri": "https://localhost:8080/"
    },
    "executionInfo": {
     "elapsed": 5,
     "status": "ok",
     "timestamp": 1624607292959,
     "user": {
      "displayName": "NOUMAN AHMAD",
      "photoUrl": "https://lh3.googleusercontent.com/a-/AOh14GhcQ3BpK0-GAMrjLlr__tOqeFHLlT11IEFK0ztPsVY=s64",
      "userId": "11031044337039581497"
     },
     "user_tz": -300
    },
    "id": "yfCMzZEpcyAM",
    "outputId": "9bca418e-148c-461f-fe89-f3de529231ce"
   },
   "outputs": [
    {
     "name": "stdout",
     "output_type": "stream",
     "text": [
      "Model: \"sequential\"\n",
      "_________________________________________________________________\n",
      " Layer (type)                Output Shape              Param #   \n",
      "=================================================================\n",
      " conv2d (Conv2D)             (None, 222, 222, 8)       80        \n",
      "                                                                 \n",
      " max_pooling2d (MaxPooling2  (None, 111, 111, 8)       0         \n",
      " D)                                                              \n",
      "                                                                 \n",
      " batch_normalization (Batch  (None, 111, 111, 8)       32        \n",
      " Normalization)                                                  \n",
      "                                                                 \n",
      " conv2d_1 (Conv2D)           (None, 109, 109, 16)      1168      \n",
      "                                                                 \n",
      " max_pooling2d_1 (MaxPoolin  (None, 54, 54, 16)        0         \n",
      " g2D)                                                            \n",
      "                                                                 \n",
      " batch_normalization_1 (Bat  (None, 54, 54, 16)        64        \n",
      " chNormalization)                                                \n",
      "                                                                 \n",
      " conv2d_2 (Conv2D)           (None, 51, 51, 32)        8224      \n",
      "                                                                 \n",
      " max_pooling2d_2 (MaxPoolin  (None, 25, 25, 32)        0         \n",
      " g2D)                                                            \n",
      "                                                                 \n",
      " batch_normalization_2 (Bat  (None, 25, 25, 32)        128       \n",
      " chNormalization)                                                \n",
      "                                                                 \n",
      " flatten (Flatten)           (None, 20000)             0         \n",
      "                                                                 \n",
      " dense (Dense)               (None, 32)                640032    \n",
      "                                                                 \n",
      " dropout (Dropout)           (None, 32)                0         \n",
      "                                                                 \n",
      " dense_1 (Dense)             (None, 3)                 99        \n",
      "                                                                 \n",
      "=================================================================\n",
      "Total params: 649827 (2.48 MB)\n",
      "Trainable params: 649715 (2.48 MB)\n",
      "Non-trainable params: 112 (448.00 Byte)\n",
      "_________________________________________________________________\n"
     ]
    }
   ],
   "source": [
    "model.summary()"
   ]
  },
  {
   "cell_type": "markdown",
   "metadata": {
    "id": "Lzs7FPsncqKT"
   },
   "source": [
    "# Splitting data into traning and testing"
   ]
  },
  {
   "cell_type": "code",
   "execution_count": 8,
   "metadata": {
    "executionInfo": {
     "elapsed": 638,
     "status": "ok",
     "timestamp": 1624607300466,
     "user": {
      "displayName": "NOUMAN AHMAD",
      "photoUrl": "https://lh3.googleusercontent.com/a-/AOh14GhcQ3BpK0-GAMrjLlr__tOqeFHLlT11IEFK0ztPsVY=s64",
      "userId": "11031044337039581497"
     },
     "user_tz": -300
    },
    "id": "1oHT4H09UT8-"
   },
   "outputs": [],
   "source": [
    "from sklearn.model_selection import train_test_split\n",
    "x_train,x_test,y_train,y_test=train_test_split(data,new_label,test_size=0.1)"
   ]
  },
  {
   "cell_type": "code",
   "execution_count": 9,
   "metadata": {
    "colab": {
     "base_uri": "https://localhost:8080/"
    },
    "executionInfo": {
     "elapsed": 587864,
     "status": "ok",
     "timestamp": 1624607891060,
     "user": {
      "displayName": "NOUMAN AHMAD",
      "photoUrl": "https://lh3.googleusercontent.com/a-/AOh14GhcQ3BpK0-GAMrjLlr__tOqeFHLlT11IEFK0ztPsVY=s64",
      "userId": "11031044337039581497"
     },
     "user_tz": -300
    },
    "id": "rmpEGWUMUUnh",
    "outputId": "f180ff58-d73f-4376-e4c6-af8c75f3ac04",
    "scrolled": false
   },
   "outputs": [
    {
     "name": "stdout",
     "output_type": "stream",
     "text": [
      "Epoch 1/10\n",
      "WARNING:tensorflow:From C:\\Users\\dgoya\\anaconda3\\Lib\\site-packages\\keras\\src\\utils\\tf_utils.py:492: The name tf.ragged.RaggedTensorValue is deprecated. Please use tf.compat.v1.ragged.RaggedTensorValue instead.\n",
      "\n"
     ]
    },
    {
     "name": "stderr",
     "output_type": "stream",
     "text": [
      "WARNING:tensorflow:From C:\\Users\\dgoya\\anaconda3\\Lib\\site-packages\\keras\\src\\utils\\tf_utils.py:492: The name tf.ragged.RaggedTensorValue is deprecated. Please use tf.compat.v1.ragged.RaggedTensorValue instead.\n",
      "\n"
     ]
    },
    {
     "name": "stdout",
     "output_type": "stream",
     "text": [
      "WARNING:tensorflow:From C:\\Users\\dgoya\\anaconda3\\Lib\\site-packages\\keras\\src\\engine\\base_layer_utils.py:384: The name tf.executing_eagerly_outside_functions is deprecated. Please use tf.compat.v1.executing_eagerly_outside_functions instead.\n",
      "\n"
     ]
    },
    {
     "name": "stderr",
     "output_type": "stream",
     "text": [
      "WARNING:tensorflow:From C:\\Users\\dgoya\\anaconda3\\Lib\\site-packages\\keras\\src\\engine\\base_layer_utils.py:384: The name tf.executing_eagerly_outside_functions is deprecated. Please use tf.compat.v1.executing_eagerly_outside_functions instead.\n",
      "\n"
     ]
    },
    {
     "name": "stdout",
     "output_type": "stream",
     "text": [
      "72/72 [==============================] - 22s 223ms/step - loss: 0.8148 - acc: 0.7382 - val_loss: 3.9503 - val_acc: 0.3455\n",
      "Epoch 2/10\n",
      "72/72 [==============================] - 14s 198ms/step - loss: 0.4183 - acc: 0.8230 - val_loss: 3.8767 - val_acc: 0.3455\n",
      "Epoch 3/10\n",
      "72/72 [==============================] - 14s 200ms/step - loss: 0.3479 - acc: 0.8518 - val_loss: 6.0234 - val_acc: 0.3455\n",
      "Epoch 4/10\n",
      "72/72 [==============================] - 14s 199ms/step - loss: 0.2945 - acc: 0.8615 - val_loss: 1.7853 - val_acc: 0.4660\n",
      "Epoch 5/10\n",
      "72/72 [==============================] - 14s 200ms/step - loss: 0.3031 - acc: 0.8658 - val_loss: 1.5421 - val_acc: 0.4887\n",
      "Epoch 6/10\n",
      "72/72 [==============================] - 14s 201ms/step - loss: 0.2700 - acc: 0.8737 - val_loss: 0.8936 - val_acc: 0.5724\n",
      "Epoch 7/10\n",
      "72/72 [==============================] - 14s 197ms/step - loss: 0.2662 - acc: 0.8772 - val_loss: 0.4843 - val_acc: 0.8272\n",
      "Epoch 8/10\n",
      "72/72 [==============================] - 14s 196ms/step - loss: 0.2388 - acc: 0.8811 - val_loss: 0.3121 - val_acc: 0.8866\n",
      "Epoch 9/10\n",
      "72/72 [==============================] - 14s 190ms/step - loss: 0.2262 - acc: 0.8781 - val_loss: 0.2943 - val_acc: 0.8831\n",
      "Epoch 10/10\n",
      "72/72 [==============================] - 14s 196ms/step - loss: 0.2242 - acc: 0.8837 - val_loss: 0.2625 - val_acc: 0.8970\n"
     ]
    }
   ],
   "source": [
    "history=model.fit(x_train,y_train,epochs=10,validation_split=0.2)"
   ]
  },
  {
   "cell_type": "code",
   "execution_count": 10,
   "metadata": {},
   "outputs": [
    {
     "name": "stdout",
     "output_type": "stream",
     "text": [
      "10/10 [==============================] - 1s 57ms/step\n",
      "Confusion Matrix:\n",
      "[[102   0   0]\n",
      " [  1  81  15]\n",
      " [  1   7 111]]\n",
      "\n",
      "Metrics for Class 0:\n",
      "Specificity (True Negative Rate): 0.9907\n",
      "Precision: 0.9808\n",
      "Recall: 1.0000\n",
      "F1 Score: 0.9903\n",
      "\n",
      "Metrics for Class 1:\n",
      "Specificity (True Negative Rate): 0.9683\n",
      "Precision: 0.9205\n",
      "Recall: 0.8351\n",
      "F1 Score: 0.8757\n",
      "\n",
      "Metrics for Class 2:\n",
      "Specificity (True Negative Rate): 0.9246\n",
      "Precision: 0.8810\n",
      "Recall: 0.9328\n",
      "F1 Score: 0.9061\n"
     ]
    }
   ],
   "source": [
    "from sklearn.metrics import confusion_matrix, precision_score, recall_score, f1_score\n",
    "\n",
    "\n",
    "# Model evaluation\n",
    "y_pred = model.predict(x_test)\n",
    "\n",
    "# Convert one-hot encoded labels back to categorical labels\n",
    "y_true_labels = np.argmax(y_test, axis=1)\n",
    "y_pred_labels = np.argmax(y_pred, axis=1)\n",
    "\n",
    "# Confusion matrix\n",
    "conf_mat = confusion_matrix(y_true_labels, y_pred_labels)\n",
    "print(\"Confusion Matrix:\")\n",
    "print(conf_mat)\n",
    "\n",
    "# Specificity (True Negative Rate), Precision, Recall, and F1 Score for each class\n",
    "for i in range(conf_mat.shape[0]):\n",
    "    true_negative = np.sum(conf_mat) - np.sum(conf_mat[i, :]) - np.sum(conf_mat[:, i]) + conf_mat[i, i]\n",
    "    false_positive = np.sum(conf_mat[:, i]) - conf_mat[i, i]\n",
    "    false_negative = np.sum(conf_mat[i, :]) - conf_mat[i, i]\n",
    "    true_positive = conf_mat[i, i]\n",
    "\n",
    "    specificity = true_negative / (true_negative + false_positive)\n",
    "    \n",
    "    # Check for zero denominators in precision and recall\n",
    "    precision = true_positive / (true_positive + false_positive) if (true_positive + false_positive) > 0 else 0\n",
    "    recall = true_positive / (true_positive + false_negative) if (true_positive + false_negative) > 0 else 0\n",
    "    \n",
    "    # Check for zero denominators in F1 score\n",
    "    f1 = 2 * (precision * recall) / (precision + recall) if (precision + recall) > 0 else 0\n",
    "\n",
    "    print(f\"\\nMetrics for Class {i}:\")\n",
    "    print(\"Specificity (True Negative Rate): {:.4f}\".format(specificity))\n",
    "    print(\"Precision: {:.4f}\".format(precision))\n",
    "    print(\"Recall: {:.4f}\".format(recall))\n",
    "    print(\"F1 Score: {:.4f}\".format(f1))\n",
    "\n"
   ]
  },
  {
   "cell_type": "code",
   "execution_count": 12,
   "metadata": {
    "colab": {
     "base_uri": "https://localhost:8080/",
     "height": 299
    },
    "executionInfo": {
     "elapsed": 970,
     "status": "ok",
     "timestamp": 1624607893729,
     "user": {
      "displayName": "NOUMAN AHMAD",
      "photoUrl": "https://lh3.googleusercontent.com/a-/AOh14GhcQ3BpK0-GAMrjLlr__tOqeFHLlT11IEFK0ztPsVY=s64",
      "userId": "11031044337039581497"
     },
     "user_tz": -300
    },
    "id": "H1TU9-z2UZlj",
    "outputId": "5441056b-9d6d-4dd7-c3b5-e762abefe44a"
   },
   "outputs": [
    {
     "data": {
      "text/plain": [
       "<matplotlib.legend.Legend at 0x1e3e401d910>"
      ]
     },
     "execution_count": 12,
     "metadata": {},
     "output_type": "execute_result"
    },
    {
     "data": {
      "image/png": "[encoded data removed]",
      "text/plain": [
       "<Figure size 640x480 with 1 Axes>"
      ]
     },
     "metadata": {},
     "output_type": "display_data"
    }
   ],
   "source": [
    "import matplotlib.pyplot as plt\n",
    "\n",
    "# # plot the training loss and accuracy\n",
    "N = 10 #number of epochs\n",
    "plt.style.use(\"ggplot\")\n",
    "plt.figure()\n",
    "plt.plot(np.arange(0, N), history.history[\"loss\"], label=\"train_loss\")\n",
    "plt.plot(np.arange(0, N), history.history[\"val_loss\"], label=\"val_loss\")\n",
    "plt.plot(np.arange(0, N), history.history[\"acc\"], label=\"train_acc\")\n",
    "plt.plot(np.arange(0, N), history.history[\"val_acc\"], label=\"val_acc\")\n",
    "plt.title(\"Training Loss and Accuracy\")\n",
    "plt.xlabel(\"Epoch #\")\n",
    "plt.ylabel(\"Loss/Accuracy\")\n",
    "plt.legend(loc=\"center right\")"
   ]
  },
  {
   "cell_type": "code",
   "execution_count": 13,
   "metadata": {},
   "outputs": [
    {
     "name": "stderr",
     "output_type": "stream",
     "text": [
      "C:\\Users\\dgoya\\anaconda3\\Lib\\site-packages\\keras\\src\\engine\\training.py:3103: UserWarning: You are saving your model as an HDF5 file via `model.save()`. This file format is considered legacy. We recommend using instead the native Keras format, e.g. `model.save('my_model.keras')`.\n",
      "  saving_api.save_model(\n"
     ]
    }
   ],
   "source": [
    "model.save('model.h5')"
   ]
  },
  {
   "cell_type": "code",
   "execution_count": 14,
   "metadata": {},
   "outputs": [
    {
     "name": "stdout",
     "output_type": "stream",
     "text": [
      "1/1 [==============================] - 0s 418ms/step\n",
      "glaucoma\n"
     ]
    }
   ],
   "source": [
    "import numpy as np\n",
    "from keras.models import load_model\n",
    "from tensorflow.keras.utils import load_img, img_to_array\n",
    "import cv2\n",
    "\n",
    "dic = {0 : 'diabetic_retinopathy', 1 : 'glaucoma', 2 : 'normal'}\n",
    "\n",
    "img_size_x=224\n",
    "img_size_y=224\n",
    "model = load_model('model.h5')\n",
    "\n",
    "def predict_label(img_path):\n",
    "    img=cv2.imread(img_path)\n",
    "    gray = cv2.cvtColor(img, cv2.COLOR_BGR2GRAY)  \n",
    "    resized=cv2.resize(gray,(img_size_x,img_size_y)) \n",
    "    i = img_to_array(resized)/255.0\n",
    "    i = i.reshape(1,img_size_x,img_size_y,1)\n",
    "    predict_x=model.predict(i) \n",
    "    p=np.argmax(predict_x,axis=1)\n",
    "    return dic[p[0]]\n",
    "\n",
    "img_path = \"dataset\\\\glaucoma\\\\_10_1472170.jpg\"\n",
    "p = predict_label(img_path)\n",
    "print(p)"
   ]
  },
  {
   "cell_type": "code",
   "execution_count": null,
   "metadata": {},
   "outputs": [],
   "source": []
  }
 ],
 "metadata": {
  "accelerator": "GPU",
  "colab": {
   "name": "Model_Training.ipynb",
   "provenance": []
  },
  "kernelspec": {
   "display_name": "Python 3 (ipykernel)",
   "language": "python",
   "name": "python3"
  },
  "language_info": {
   "codemirror_mode": {
    "name": "ipython",
    "version": 3
   },
   "file_extension": ".py",
   "mimetype": "text/x-python",
   "name": "python",
   "nbconvert_exporter": "python",
   "pygments_lexer": "ipython3",
   "version": "3.11.5"
  },
  "vscode": {
   "interpreter": {
    "hash": "36f9e1b585b16813c0b2f85a08ee7989cc3c4676cdd7ae438e526001f31868d7"
   }
  }
 },
 "nbformat": 4,
 "nbformat_minor": 1
}
